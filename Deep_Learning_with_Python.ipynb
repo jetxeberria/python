{
  "nbformat": 4,
  "nbformat_minor": 0,
  "metadata": {
    "colab": {
      "name": "Deep Learning with Python.ipynb",
      "provenance": [],
      "authorship_tag": "ABX9TyPL90DDoP/ovrNsq/qv/vIB",
      "include_colab_link": true
    },
    "kernelspec": {
      "name": "python3",
      "display_name": "Python 3"
    },
    "language_info": {
      "name": "python"
    }
  },
  "cells": [
    {
      "cell_type": "markdown",
      "metadata": {
        "id": "view-in-github",
        "colab_type": "text"
      },
      "source": [
        "<a href=\"https://colab.research.google.com/github/jetxeberria/python/blob/master/Deep_Learning_with_Python.ipynb\" target=\"_parent\"><img src=\"https://colab.research.google.com/assets/colab-badge.svg\" alt=\"Open In Colab\"/></a>"
      ]
    },
    {
      "cell_type": "code",
      "execution_count": null,
      "metadata": {
        "id": "Gej6tz2hnTTu"
      },
      "outputs": [],
      "source": [
        ""
      ]
    }
  ]
}